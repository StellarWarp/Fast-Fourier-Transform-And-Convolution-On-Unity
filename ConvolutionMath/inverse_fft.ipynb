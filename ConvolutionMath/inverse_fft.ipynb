{
 "cells": [
  {
   "cell_type": "markdown",
   "id": "2647a4b4",
   "metadata": {},
   "source": [
    "# In-Place Inverse Pass"
   ]
  },
  {
   "cell_type": "code",
   "execution_count": 2,
   "id": "95865d4f",
   "metadata": {},
   "outputs": [],
   "source": [
    "def permute_indices(N, R_seq):\n",
    "    idx = [i for i in range(N)]\n",
    "    P = 1\n",
    "    for R in reversed(R_seq[1:]):\n",
    "        g = N//P\n",
    "        def map_fn(i):\n",
    "            s = i // g\n",
    "            i = i % g\n",
    "            res = (i%R) * g//R + i//R + s * g\n",
    "            return res\n",
    "        for i in range(N):\n",
    "            idx[i] = map_fn(idx[i])\n",
    "        P *= R\n",
    "    return idx"
   ]
  },
  {
   "cell_type": "code",
   "execution_count": 3,
   "id": "77d42017",
   "metadata": {},
   "outputs": [
    {
     "name": "stdout",
     "output_type": "stream",
     "text": [
      "2.9498114564208594e-12\n"
     ]
    }
   ],
   "source": [
    "import numpy as np\n",
    "\n",
    "def fft(x, R_seq):\n",
    "    N= len(x)\n",
    "    X = [0] * N\n",
    "    X[:] = x[:]\n",
    "                \n",
    "    P = 1\n",
    "    for R in reversed(R_seq):\n",
    "        T = N // R\n",
    "        for i in range(T):\n",
    "            # k, s = i // P, i % P\n",
    "            k = i % (T//P)\n",
    "            s = i // (T//P)\n",
    "            idx = [k + r * N//(P*R) + s * N//P for r in range(R)]\n",
    "            # print(f'{i} : {idx} -> {idx}')\n",
    "            res = [0] * R\n",
    "            for t in range(R):\n",
    "                for r in range(R):\n",
    "                    w0 = r*t/R\n",
    "                    w1 = t*k*P/N\n",
    "                    # print(f'w0={w0} w1={w1}')\n",
    "                    twiddle = np.exp(-2j*np.pi * (w0+w1))\n",
    "                    res[t] += X[idx[r]] * twiddle\n",
    "            for t in range(R):\n",
    "                X[idx[t]] = res[t]\n",
    "        P *= R\n",
    "\n",
    "    perm = permute_indices(N, R_seq) \n",
    "    for i in range(N):\n",
    "        x[i] = X[perm[i]]\n",
    "    return x\n",
    "\n",
    "R_seq = [9,3,6,6]\n",
    "N = np.prod(R_seq)\n",
    "np.random.seed(0)\n",
    "x0 = np.random.randn(N) + 1j*np.random.randn(N)\n",
    "x1 = np.copy(x0)\n",
    "x1 = fft(x1, R_seq)\n",
    "print(np.linalg.norm(np.fft.fft(x0) - x1))"
   ]
  },
  {
   "cell_type": "markdown",
   "id": "dd8a509a",
   "metadata": {},
   "source": [
    "# Embedded FFT for Inverse Pass"
   ]
  },
  {
   "cell_type": "code",
   "execution_count": 4,
   "id": "97a31943",
   "metadata": {},
   "outputs": [],
   "source": [
    "def factors(N):\n",
    "    factor_seq = []\n",
    "    f = 2\n",
    "    while N % f == 0:\n",
    "        factor_seq.append(f)\n",
    "        N //= f\n",
    "    f = 3\n",
    "    while f*f <= N:\n",
    "        while N % f == 0:\n",
    "            factor_seq.append(f)\n",
    "            N //= f\n",
    "        f += 2\n",
    "    if N != 1:\n",
    "        factor_seq.append(N)\n",
    "    return factor_seq"
   ]
  },
  {
   "cell_type": "code",
   "execution_count": null,
   "id": "a3387bcb",
   "metadata": {},
   "outputs": [],
   "source": []
  },
  {
   "cell_type": "code",
   "execution_count": 5,
   "id": "182a572c",
   "metadata": {},
   "outputs": [
    {
     "name": "stdout",
     "output_type": "stream",
     "text": [
      "2.393768410351114e-12\n"
     ]
    }
   ],
   "source": [
    "def fft_internal_outplace(y,k_,N_,P_,R_):\n",
    "    N = R_\n",
    "    R_seq = factors(N)\n",
    "    rb = [0] * N\n",
    "    wb = [0] * N\n",
    "    rb[:] = y[:]\n",
    "    P = 1\n",
    "    for R in reversed(R_seq):\n",
    "        S = N//R\n",
    "        for i in range(S):\n",
    "            k,p = i//P, i%P\n",
    "            dst = [P*R*k + p + P*r for r in range(R)]\n",
    "            src = [i + t*N//R      for t in range(R)]\n",
    "            for t in range(R):\n",
    "                wb[dst[t]] = 0\n",
    "                for r in range(R):\n",
    "                    phi = r*t/R + t*k*P/N + t*k_*P*P_/N_\n",
    "                    wb[dst[t]] += rb[src[r]] * np.exp(-2j*np.pi * phi)\n",
    "        rb,wb = wb,rb\n",
    "        P *= R\n",
    "    return rb\n",
    "\n",
    "def fft_internal_inplace(y,k_,N_,P_,R_):\n",
    "    N = R_\n",
    "    R_seq = factors(N)\n",
    "    Y = [0] * N\n",
    "    Y[:] = y[:]\n",
    "\n",
    "    P = 1\n",
    "    for R in reversed(R_seq):\n",
    "        T = N//R\n",
    "        for i in range(T):\n",
    "            k,p = i//P, i%P\n",
    "            idx = [k + r * N//(P*R) + p * N//P for r in range(R)]\n",
    "            Z = [0] * R\n",
    "            for t in range(R):\n",
    "                for r in range(R):\n",
    "                    phi = r*t/R + t*k*P/N + t*k_*P*P_/N_\n",
    "                    Z[t] += Y[idx[r]] * np.exp(-2j*np.pi * phi)\n",
    "            for t in range(R):\n",
    "                Y[idx[t]] = Z[t]\n",
    "        P *= R\n",
    "    perm = permute_indices(N,R_seq)\n",
    "    for i in range(N):\n",
    "        y[i] = Y[perm[i]] #* np.exp(-2j*np.pi * i*k_*P_/N_)\n",
    "    return y\n",
    "\n",
    "fft_internal = fft_internal_inplace\n",
    "R_seq = [9,3,6,6]\n",
    "N=1\n",
    "for R in R_seq: N *= R\n",
    "np.random.seed(0)\n",
    "x = np.random.randn(N) + 1j*np.random.randn(N)\n",
    "\n",
    "print(np.linalg.norm(np.fft.fft(x) - fft_inplace(x,R_seq)))"
   ]
  },
  {
   "cell_type": "code",
   "execution_count": 6,
   "id": "797b5541",
   "metadata": {},
   "outputs": [],
   "source": [
    "fft_internal = fft_internal_outplace"
   ]
  },
  {
   "cell_type": "code",
   "execution_count": 7,
   "id": "48783759",
   "metadata": {},
   "outputs": [],
   "source": [
    "fft_internal = fft_internal_inplace"
   ]
  },
  {
   "cell_type": "code",
   "execution_count": 8,
   "id": "e37ba208",
   "metadata": {},
   "outputs": [],
   "source": [
    "import numpy as np\n",
    "\n",
    "def fft_inplace(x,R_seq):\n",
    "    N= len(x)\n",
    "    P = N\n",
    "    X = np.zeros(N,dtype=np.complex128)\n",
    "    X[:] = x[:]\n",
    "\n",
    "    P = 1\n",
    "    for R in reversed(R_seq):\n",
    "        T = N//R\n",
    "        for i in range(T):\n",
    "            k,p = i//P, i%P\n",
    "            idx = [k + r * N//(P*R) + p * N//P for r in range(R)]\n",
    "            Y = fft_internal([ X[idx[t]] for t in range(R) ],k,N,P,R)\n",
    "            for t in range(R):\n",
    "                X[idx[t]] = Y[t]\n",
    "        P *= R\n",
    "    perm = permute_indices(N,R_seq)\n",
    "    for i in range(N):\n",
    "        x[i]= X[perm[i]]\n",
    "    return x\n",
    "\n",
    "def fft_outplace(x,R_seq):\n",
    "    N=len(x)\n",
    "    P = 1\n",
    "    rb = [0] * N\n",
    "    wb = [0] * N\n",
    "    rb[:] = x[:]\n",
    "    for R in R_seq:\n",
    "        S = N//R\n",
    "        for i in range(S):\n",
    "            k,s = i//P, i%P\n",
    "            dst = [P*R*k + s + P*r for r in range(R)]\n",
    "            src = [i + t*N//R      for t in range(R)]\n",
    "            Y = fft_internal([rb[r] for r in src],k,N,P,R)\n",
    "            for t in range(R):\n",
    "                wb[dst[t]] = Y[t]\n",
    "        rb,wb = wb,rb\n",
    "        P *= R\n",
    "    return rb"
   ]
  },
  {
   "cell_type": "markdown",
   "id": "5cb3d329",
   "metadata": {},
   "source": [
    "# Symmetric Pass Opt for In-Place Inverse Pass"
   ]
  },
  {
   "cell_type": "code",
   "execution_count": 9,
   "id": "fe176eed",
   "metadata": {},
   "outputs": [
    {
     "name": "stdout",
     "output_type": "stream",
     "text": [
      "1.104342542587768e-12\n"
     ]
    }
   ],
   "source": [
    "def conjmul(a,b):\n",
    "    v0 = a.real * b.real\n",
    "    v1 = a.imag * b.imag\n",
    "    v2 = a.real * b.imag\n",
    "    v3 = a.imag * b.real\n",
    "    return v0 - v1 + (v2 + v3) * 1j, v0 + v1 + (-v2 + v3) * 1j\n",
    "\n",
    "def fft(x, R_seq):\n",
    "    X = np.zeros_like(x, dtype=np.complex128)\n",
    "    N = len(X)\n",
    "\n",
    "    idx = permute_indices(N, R_seq) \n",
    "    # for i in range(N):\n",
    "    #     X[idx[i]] = x[i]\n",
    "    for i in range(N):\n",
    "        X[i] = x[i]\n",
    "                \n",
    "    P = 1\n",
    "    for R in reversed(R_seq):\n",
    "        T = N // R\n",
    "        for i in range(T):\n",
    "            k, s = i // P, i % P\n",
    "            idx = [k + r * N//(P*R) + s * N//P for r in range(R)]\n",
    "            vals = [X[src] for src in idx]\n",
    "            X[idx[0]] = np.sum(vals)\n",
    "            for t in range(1, R//2+1):\n",
    "                y_0 = vals[0]\n",
    "                y_1 = vals[0]\n",
    "                for r in range(1, R):\n",
    "                    phi = r*t/R\n",
    "                    twiddle = np.exp(-2j * np.pi * phi)\n",
    "                    val = vals[r]\n",
    "                    m_0,m_1 = conjmul(val, twiddle)\n",
    "                    y_0 += m_0\n",
    "                    y_1 += m_1\n",
    "                X[idx[t]] = y_0 * np.exp(-2j * np.pi * (t*k*P)/N)\n",
    "                X[idx[R-t]] = y_1 * np.exp(-2j * np.pi * ((R-t)*k*P)/N)\n",
    "        P *= R\n",
    "\n",
    "    idx = permute_indices(N, R_seq) \n",
    "    for i in range(N):\n",
    "        x[i] = X[idx[i]]\n",
    "    # for i in range(N):\n",
    "    #     x[i] = X[i]\n",
    "    return x\n",
    "\n",
    "R_seq = [3,5,7,9]\n",
    "N = np.prod(R_seq)\n",
    "np.random.seed(0)\n",
    "x0 = np.random.randn(N) + 1j*np.random.randn(N)\n",
    "x1 = np.copy(x0)\n",
    "x1 = fft(x1, R_seq)\n",
    "print(np.linalg.norm(np.fft.fft(x0) - x1))"
   ]
  }
 ],
 "metadata": {
  "kernelspec": {
   "display_name": "base",
   "language": "python",
   "name": "python3"
  },
  "language_info": {
   "codemirror_mode": {
    "name": "ipython",
    "version": 3
   },
   "file_extension": ".py",
   "mimetype": "text/x-python",
   "name": "python",
   "nbconvert_exporter": "python",
   "pygments_lexer": "ipython3",
   "version": "3.11.9"
  }
 },
 "nbformat": 4,
 "nbformat_minor": 5
}
