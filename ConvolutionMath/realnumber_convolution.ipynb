{
 "cells": [
  {
   "cell_type": "code",
   "execution_count": 1,
   "id": "c8bbfbe5",
   "metadata": {},
   "outputs": [
    {
     "name": "stdout",
     "output_type": "stream",
     "text": [
      "3.991170802742183e-06\n"
     ]
    }
   ],
   "source": [
    "import numpy as np\n",
    "\n",
    "def pack_decode(H):\n",
    "    N = H.shape[1]\n",
    "    packed = np.zeros((N, N + 2), dtype=np.complex64)\n",
    "    F = np.zeros((N, N), dtype=np.complex64)\n",
    "    G = np.zeros((N, N), dtype=np.complex64)\n",
    "    for k in range(N):\n",
    "        k_sym = (N-k) % N\n",
    "        H_conj = np.conj(H[:,k_sym])\n",
    "        F[:,k] = (H[:,k] + H_conj) / 2\n",
    "        G[:,k] = (H[:,k] - H_conj) / (2j)\n",
    "    \n",
    "    packed[:,0] = F[:,0].real + 0j\n",
    "    packed[:,1:N//2] = F[:,1:N//2]\n",
    "    packed[:,N//2] = F[:,N//2].real + 0j\n",
    "\n",
    "    packed[:,N//2+1:N] = G[:,N//2+1:N]\n",
    "    packed[:,N] = G[:,0].real + 0j\n",
    "    packed[:,N+1] = G[:,N//2].real + 0j\n",
    "    \n",
    "    return packed\n",
    "\n",
    "def unpack_encode(packed):\n",
    "    N = packed.shape[1] - 2\n",
    "    H = np.zeros((N, N), dtype=np.complex64)\n",
    "    F = np.zeros((N, N), dtype=np.complex64)\n",
    "    G = np.zeros((N, N), dtype=np.complex64)\n",
    "    \n",
    "    F[:,0] = packed[:,0].real\n",
    "    F[:,1:N//2] = packed[:,1:N//2]\n",
    "    F[:,N//2] = packed[:,N//2].real\n",
    "    \n",
    "    G[:,N//2+1:N] = packed[:,N//2+1:N]\n",
    "    G[:,0] = packed[:,N].real\n",
    "    G[:,N//2] = packed[:,N+1].real\n",
    "    \n",
    "    for k in range(1, N//2):\n",
    "        F[:,N - k] = np.conj(F[:,k])\n",
    "        G[:,k] = np.conj(G[:,N - k])\n",
    "    \n",
    "    H = F + 1j * G\n",
    "    return H\n",
    "\n",
    "N = 8\n",
    "np.random.seed(42)\n",
    "\n",
    "f = np.random.randn(N,N).astype(np.float32)\n",
    "g = np.random.randn(N,N).astype(np.float32)\n",
    "h = f + 1j * g\n",
    "\n",
    "u = np.random.randn(N,N).astype(np.float32)\n",
    "v = np.random.randn(N,N).astype(np.float32)\n",
    "w = u + 1j*v\n",
    "\n",
    "def fft(h0):\n",
    "    H_1 = np.fft.fft(h0,axis=1)\n",
    "    H_1 = pack_decode(H_1)\n",
    "    H = np.fft.fft(H_1,axis=0)\n",
    "    return H\n",
    "\n",
    "def ifft(H):\n",
    "    H_1 = np.fft.ifft(H,axis=0)\n",
    "    H_1 = unpack_encode(H_1)\n",
    "    h0 = np.fft.ifft(H_1,axis=1)\n",
    "    return h0\n",
    "\n",
    "h1 = ifft(fft(h) * fft(w))\n",
    "\n",
    "h2 = np.fft.ifft2(np.fft.fft2(f) * np.fft.fft2(u)) + \\\n",
    "     np.fft.ifft2(np.fft.fft2(g) * np.fft.fft2(v)) * 1j\n",
    "\n",
    "print(np.linalg.norm(h1-h2))\n",
    "\n"
   ]
  }
 ],
 "metadata": {
  "kernelspec": {
   "display_name": "base",
   "language": "python",
   "name": "python3"
  },
  "language_info": {
   "codemirror_mode": {
    "name": "ipython",
    "version": 3
   },
   "file_extension": ".py",
   "mimetype": "text/x-python",
   "name": "python",
   "nbconvert_exporter": "python",
   "pygments_lexer": "ipython3",
   "version": "3.11.9"
  }
 },
 "nbformat": 4,
 "nbformat_minor": 5
}
