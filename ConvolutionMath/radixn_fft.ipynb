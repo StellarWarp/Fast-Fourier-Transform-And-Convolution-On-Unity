{
 "cells": [
  {
   "cell_type": "markdown",
   "id": "7915d8ed",
   "metadata": {},
   "source": [
    "# In-place FFT "
   ]
  },
  {
   "cell_type": "code",
   "execution_count": 1,
   "id": "02536d6a",
   "metadata": {},
   "outputs": [],
   "source": [
    "def permute_indices(N, R_seq):\n",
    "    idx = [i for i in range(N)]\n",
    "    P = 1\n",
    "    for R in reversed(R_seq[1:]):\n",
    "        g = N//P\n",
    "        def map_fn(i):\n",
    "            s = i // g\n",
    "            i = i % g\n",
    "            res = (i%R)* g//R + i//R + s * g\n",
    "            return res\n",
    "        for i in range(N):\n",
    "            idx[i] = map_fn(idx[i])\n",
    "        P *= R\n",
    "    return idx"
   ]
  },
  {
   "cell_type": "code",
   "execution_count": 2,
   "id": "7256e730",
   "metadata": {},
   "outputs": [
    {
     "name": "stdout",
     "output_type": "stream",
     "text": [
      "2.0989176627407186e-13\n"
     ]
    }
   ],
   "source": [
    "import numpy as np\n",
    "\n",
    "def fft(X_, R_seq):\n",
    "    X = np.zeros_like(X_, dtype=np.complex128)\n",
    "    N = len(X)\n",
    "    assert np.prod(R_seq) == N, \"Product of radices must equal the length of the input array.\"\n",
    "\n",
    "    # index reordering\n",
    "    idx = permute_indices(N, R_seq)        \n",
    "    for i in range(N):\n",
    "        X[idx[i]] = X_[i]\n",
    "                \n",
    "    P = N\n",
    "    for R in R_seq:\n",
    "        P //= R\n",
    "        T = N // R\n",
    "        for i in range(T):\n",
    "            # k, s = i // P, i % P\n",
    "            k = i % (T//P)\n",
    "            s = i // (T//P)\n",
    "            idx = [k + r * N//(P*R) + s * N//P for r in range(R)]\n",
    "            res = [0] * R\n",
    "            # print(f'{i} : {idx} -> {idx}')\n",
    "            for t in range(R):\n",
    "                for r in range(R):\n",
    "                    w0 = r*t/R\n",
    "                    w1 = (r*k*P)/N\n",
    "                    twiddle = np.exp(-2j*np.pi * (w0+w1))\n",
    "                    res[t] += X[idx[r]] * twiddle\n",
    "            for t in range(R):\n",
    "                X[idx[t]] = res[t]\n",
    "        # print(f'X = {X}')\n",
    "    return X\n",
    "\n",
    "R_seq = [2,3,5,4]\n",
    "N = np.prod(R_seq)             \n",
    "np.random.seed(0)\n",
    "x0 = np.random.randn(N) + 1j*np.random.randn(N)\n",
    "x1 = np.copy(x0)\n",
    "x1 = fft(x1, R_seq)\n",
    "print(np.linalg.norm(np.fft.fft(x0) - x1))\n"
   ]
  },
  {
   "cell_type": "markdown",
   "id": "ae4532b5",
   "metadata": {},
   "source": [
    "# Out-of-Place FFT"
   ]
  },
  {
   "cell_type": "code",
   "execution_count": 3,
   "id": "89b81cd9",
   "metadata": {},
   "outputs": [
    {
     "name": "stdout",
     "output_type": "stream",
     "text": [
      "6.2884604127015255e-15\n"
     ]
    }
   ],
   "source": [
    "#fft \n",
    "import numpy as np\n",
    "R_seq = [2,2,2,2]\n",
    "N=1\n",
    "for R in R_seq: N *= R\n",
    "np.random.seed(0)\n",
    "y = np.random.randn(N) + 1j*np.random.randn(N)\n",
    "rb = np.zeros(N,dtype=np.complex128)\n",
    "wb = np.zeros(N,dtype=np.complex128)\n",
    "rb[:] = y[:]\n",
    "np.set_printoptions(precision=1)\n",
    "P = N\n",
    "for R in R_seq:\n",
    "    P //= R\n",
    "    T = N//R\n",
    "    for i in range(T):\n",
    "        k,s = i//P, i%P\n",
    "        src = [P*R*k + s + P*r for r in range(R)]\n",
    "        dst = [i + t*N//R      for t in range(R)]\n",
    "        # print(f'{i} : {src} -> {dst}')\n",
    "        for t in range(R):\n",
    "            wb[dst[t]] = 0\n",
    "            for r in range(R):\n",
    "                rot = np.exp(-2j*np.pi*r*t/R)\n",
    "                twiddle = np.exp(-2j*np.pi/N*(r*k*P)) * rot\n",
    "                wb[dst[t]] += rb[src[r]] * twiddle\n",
    "    # print(f'wb = {wb}')\n",
    "    rb,wb = wb,rb\n",
    "\n",
    "\n",
    "print(np.linalg.norm(np.fft.fft(y) - rb))"
   ]
  },
  {
   "cell_type": "markdown",
   "id": "f1a477e9",
   "metadata": {},
   "source": [
    "# Embedded FFT"
   ]
  },
  {
   "cell_type": "code",
   "execution_count": 4,
   "id": "c9ef2505",
   "metadata": {},
   "outputs": [],
   "source": [
    "def factors(N):\n",
    "    factor_seq = []\n",
    "    f = 2\n",
    "    while N % f == 0:\n",
    "        factor_seq.append(f)\n",
    "        N //= f\n",
    "    f = 3\n",
    "    while f*f <= N:\n",
    "        while N % f == 0:\n",
    "            factor_seq.append(f)\n",
    "            N //= f\n",
    "        f += 2\n",
    "    if N != 1:\n",
    "        factor_seq.append(N)\n",
    "    return factor_seq\n"
   ]
  },
  {
   "cell_type": "code",
   "execution_count": 5,
   "id": "28717417",
   "metadata": {},
   "outputs": [],
   "source": [
    "def fft_internal_outplace(y,k_,N_,P_,R_):\n",
    "    N = R_\n",
    "    R_seq = factors(N)\n",
    "    P = N\n",
    "    rb = [0] * N\n",
    "    wb = [0] * N\n",
    "    rb[:] = y[:]\n",
    "    for R in R_seq:\n",
    "        P //= R\n",
    "        S = N//R\n",
    "        for i in range(S):\n",
    "            k,p = i//P, i%P\n",
    "            src = [P*R*k + p + P*r for r in range(R)]\n",
    "            dst = [i + t*N//R      for t in range(R)]\n",
    "            for t in range(R):\n",
    "                wb[dst[t]] = 0\n",
    "                for r in range(R):\n",
    "                    phi = r*k*P/N + r*t/R + k_*P_*r*P/N_\n",
    "                    wb[dst[t]] += rb[src[r]] * np.exp(-2j*np.pi * phi)\n",
    "        rb,wb = wb,rb\n",
    "    return rb\n",
    "\n",
    "def fft_internal_inplace(y,k_,N_,P_,R_):\n",
    "    N = R_\n",
    "    R_seq = factors(N)\n",
    "    perm = permute_indices(N,R_seq)\n",
    "    Y = [0] * N\n",
    "    for i in range(N):\n",
    "        Y[perm[i]] = y[i]\n",
    "\n",
    "    P = N\n",
    "    for R in R_seq:\n",
    "        P //= R\n",
    "        T = N//R\n",
    "        for i in range(T):\n",
    "            k,p = i//P, i%P\n",
    "            idx = [k + r * N//(P*R) + p * N//P for r in range(R)]\n",
    "            Z = [0] * R\n",
    "            for t in range(R):\n",
    "                for r in range(R):\n",
    "                    phi = r*k*P/N + r*t/R + k_*P_*r*P/N_\n",
    "                    Z[t] += Y[idx[r]] * np.exp(-2j*np.pi * phi)\n",
    "            for t in range(R):\n",
    "                Y[idx[t]] = Z[t]\n",
    "    return Y"
   ]
  },
  {
   "cell_type": "markdown",
   "id": "b34302e4",
   "metadata": {},
   "source": [
    "Choose One"
   ]
  },
  {
   "cell_type": "code",
   "execution_count": 6,
   "id": "46429100",
   "metadata": {},
   "outputs": [],
   "source": [
    "fft_internal = fft_internal_outplace"
   ]
  },
  {
   "cell_type": "code",
   "execution_count": 7,
   "id": "a3dd1759",
   "metadata": {},
   "outputs": [],
   "source": [
    "fft_internal = fft_internal_inplace"
   ]
  },
  {
   "cell_type": "code",
   "execution_count": 8,
   "id": "fb732686",
   "metadata": {},
   "outputs": [
    {
     "name": "stdout",
     "output_type": "stream",
     "text": [
      "2.5799251709695548e-15\n",
      "2.5799251709695548e-15\n"
     ]
    }
   ],
   "source": [
    "import numpy as np\n",
    "\n",
    "def fft_inplace(x,R_seq):\n",
    "    N= len(x)\n",
    "    P = N\n",
    "    X = np.zeros(N,dtype=np.complex128)\n",
    "\n",
    "    # index reordering\n",
    "    perm = permute_indices(N,R_seq)\n",
    "    for i in range(N):\n",
    "        X[perm[i]] = x[i]\n",
    "\n",
    "    P = N\n",
    "    for R in R_seq:\n",
    "        P //= R\n",
    "        T = N//R\n",
    "        for i in range(T):\n",
    "            k,p = i//P, i%P\n",
    "            idx = [k + r * N//(P*R) + p * N//P for r in range(R)]\n",
    "            Y = fft_internal([ X[idx[t]] for t in range(R) ],k,N,P,R)\n",
    "            for t in range(R):\n",
    "                X[idx[t]] = Y[t]\n",
    "    return X\n",
    "\n",
    "def fft_outplace(x,R_seq):\n",
    "    N=len(x)\n",
    "    P = N\n",
    "    rb = [0] * N\n",
    "    wb = [0] * N\n",
    "    rb[:] = x[:]\n",
    "    for R in R_seq:\n",
    "        P //= R\n",
    "        S = N//R\n",
    "\n",
    "        for i in range(S):\n",
    "            k,s = i//P, i%P\n",
    "            src = [P*R*k + s + P*r for r in range(R)]\n",
    "            dst = [i + t*N//R      for t in range(R)]\n",
    "            Y = fft_internal([rb[r] for r in src],k,N,P,R)\n",
    "            for t in range(R):\n",
    "                wb[dst[t]] = Y[t]\n",
    "        rb,wb = wb,rb\n",
    "    return rb\n",
    "\n",
    "R_seq = [2,4]\n",
    "N=1\n",
    "for R in R_seq: N *= R\n",
    "x = np.random.randn(N) + 1j*np.random.randn(N)\n",
    "\n",
    "print(np.linalg.norm(np.fft.fft(x) - fft_inplace(x,R_seq)))\n",
    "print(np.linalg.norm(np.fft.fft(x) - fft_outplace(x,R_seq)))"
   ]
  },
  {
   "cell_type": "markdown",
   "id": "dca22a3f",
   "metadata": {},
   "source": [
    "# Symmetric Pass Opt"
   ]
  },
  {
   "cell_type": "code",
   "execution_count": 9,
   "id": "f103051c",
   "metadata": {},
   "outputs": [
    {
     "name": "stdout",
     "output_type": "stream",
     "text": [
      "4.900974636389323e-13\n"
     ]
    }
   ],
   "source": [
    "import numpy as np\n",
    "\n",
    "def conjmul(a,b):\n",
    "    v0 = a.real * b.real\n",
    "    v1 = a.imag * b.imag\n",
    "    v2 = a.real * b.imag\n",
    "    v3 = a.imag * b.real\n",
    "    return v0 - v1 + (v2 + v3) * 1j, v0 + v1 + (-v2 + v3) * 1j\n",
    "\n",
    "def fft(x, R_seq):\n",
    "    X = np.zeros_like(x, dtype=np.complex128)\n",
    "    N = len(X)\n",
    "\n",
    "    idx = permute_indices(N, R_seq)\n",
    "    for i in range(N):\n",
    "        X[idx[i]] = x[i]\n",
    "                \n",
    "    P = N\n",
    "    for R in R_seq:\n",
    "        P //= R\n",
    "        T = N // R\n",
    "        for i in range(T):\n",
    "            k, s = i // P, i % P\n",
    "            idx = [k + r * N//(P*R) + s * N//P for r in range(R)]\n",
    "            vals = [X[src] for src in idx]\n",
    "            for r in range(1,R):\n",
    "                phi = (r*k*P)/N\n",
    "                vals[r] *= np.exp(-2j*np.pi * phi)\n",
    "            X[idx[0]] = np.sum(vals)\n",
    "            for t in range(1, R//2+1):\n",
    "                y_0 = vals[0]\n",
    "                y_1 = vals[0]\n",
    "                for r in range(1, R):\n",
    "                    phi = r*t/R\n",
    "                    twiddle = np.exp(-2j*np.pi * phi)\n",
    "                    val = vals[r]\n",
    "                    m_0,m_1 = conjmul(val, twiddle)\n",
    "                    y_0 += m_0\n",
    "                    y_1 += m_1\n",
    "                X[idx[t]] = y_0\n",
    "                X[idx[R-t]] = y_1\n",
    "\n",
    "    return X\n",
    "\n",
    "R_seq = [5,5,5,5]\n",
    "N = np.prod(R_seq)             \n",
    "np.random.seed(0)\n",
    "x0 = np.random.randn(N) + 1j*np.random.randn(N)\n",
    "x1 = np.copy(x0)\n",
    "x1 = fft(x1, R_seq)\n",
    "print(np.linalg.norm(np.fft.fft(x0) - x1))"
   ]
  },
  {
   "cell_type": "code",
   "execution_count": 10,
   "id": "dbcc7848",
   "metadata": {},
   "outputs": [
    {
     "name": "stdout",
     "output_type": "stream",
     "text": [
      "9.155133597044475e-16\n"
     ]
    }
   ],
   "source": [
    "import numpy as np\n",
    "\n",
    "def fft(x, R_seq):\n",
    "    X = np.zeros_like(x, dtype=np.complex128)\n",
    "    N = len(X)\n",
    "\n",
    "    idx = permute_indices(N, R_seq)\n",
    "    for i in range(N):\n",
    "        X[idx[i]] = x[i]\n",
    "                \n",
    "    P = N\n",
    "    for R in R_seq:\n",
    "        P //= R\n",
    "        T = N // R\n",
    "        for i in range(T):\n",
    "            k, s = i // P, i % P\n",
    "            idx = [k + r * N//(P*R) + s * N//P for r in range(R)]\n",
    "            vals = [X[src] for src in idx]\n",
    "            for r in range(1,R):\n",
    "                phi = (r*k*P)/N\n",
    "                vals[r] *= np.exp(-2j*np.pi * phi)\n",
    "            X[idx[0]] = np.sum(vals)\n",
    "            for t in range(1, R//2+1):\n",
    "                y1 = vals[0]\n",
    "                y2 = vals[0]\n",
    "                for r in range(1, R//2+1):\n",
    "                    phi = r*t/R\n",
    "                    twiddle = np.exp(-2j*np.pi * phi)\n",
    "                    x1 = vals[r]\n",
    "                    x2 = vals[R-r]\n",
    "                    # y1 += x1 * twiddle + x2 * np.conj(twiddle)\n",
    "                    # y2 += x1 * np.conj(twiddle) + x2 * twiddle\n",
    "                    m1 = twiddle.real * (x1+x2)\n",
    "                    m2 = twiddle.imag * (x1-x2) * 1j\n",
    "                    y1 += m1 + m2\n",
    "                    y2 += m1 - m2\n",
    "                X[idx[t]] = y1\n",
    "                X[idx[R-t]] = y2\n",
    "\n",
    "    return X\n",
    "\n",
    "R_seq = [3]\n",
    "N = np.prod(R_seq)             \n",
    "np.random.seed(0)\n",
    "x0 = np.random.randn(N) + 1j*np.random.randn(N)\n",
    "x1 = np.copy(x0)\n",
    "x1 = fft(x1, R_seq)\n",
    "print(np.linalg.norm(np.fft.fft(x0) - x1))"
   ]
  }
 ],
 "metadata": {
  "kernelspec": {
   "display_name": "base",
   "language": "python",
   "name": "python3"
  },
  "language_info": {
   "codemirror_mode": {
    "name": "ipython",
    "version": 3
   },
   "file_extension": ".py",
   "mimetype": "text/x-python",
   "name": "python",
   "nbconvert_exporter": "python",
   "pygments_lexer": "ipython3",
   "version": "3.11.9"
  }
 },
 "nbformat": 4,
 "nbformat_minor": 5
}
